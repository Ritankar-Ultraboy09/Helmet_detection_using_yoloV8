{
 "cells": [
  {
   "cell_type": "code",
   "execution_count": null,
   "id": "5dd043f0-883b-4f0a-a405-f07abf5ca172",
   "metadata": {},
   "outputs": [],
   "source": [
    "\n",
    "import cv2\n",
    "import math\n",
    "import cvzone\n",
    "from ultralytics import YOLO"
   ]
  },
  {
   "cell_type": "code",
   "execution_count": null,
   "id": "18756edb-d10c-484e-90fc-a9d89979fc2d",
   "metadata": {},
   "outputs": [],
   "source": [
    "yolo_model = YOLO(\"Weights/best.pt\")"
   ]
  },
  {
   "cell_type": "code",
   "execution_count": null,
   "id": "8b105415-cec9-476f-a79f-7496bff69911",
   "metadata": {},
   "outputs": [],
   "source": [
    "class_labels = ['With Helmet', 'Without Helmet']"
   ]
  },
  {
   "cell_type": "code",
   "execution_count": null,
   "id": "45b60b2f-b205-46a9-affc-93b67e219c84",
   "metadata": {},
   "outputs": [],
   "source": [
    "image_path = \"Media/riders_5.jpg\"\n",
    "img = cv2.imread(image_path)"
   ]
  },
  {
   "cell_type": "code",
   "execution_count": null,
   "id": "735b8044-3101-4de4-8b6d-ac2fe29a4453",
   "metadata": {},
   "outputs": [],
   "source": [
    "results = yolo_model(img)"
   ]
  },
  {
   "cell_type": "code",
   "execution_count": null,
   "id": "8c786e3f-c605-4513-837e-c0b098c00efb",
   "metadata": {},
   "outputs": [],
   "source": [
    "for r in results:\n",
    "    boxes = r.boxes\n",
    "    for box in boxes:\n",
    "        x1, y1, x2, y2 = box.xyxy[0]\n",
    "        x1, y1, x2, y2 = int(x1), int(y1), int(x2), int(y2)\n",
    "        w, h = x2 - x1, y2 - y1\n",
    "        cvzone.cornerRect(img, (x1, y1, w, h))\n",
    "        conf = math.ceil((box.conf[0] * 100)) / 100\n",
    "        cls = int(box.cls[0])\n",
    "        if conf > 0.1:\n",
    "            cvzone.putTextRect(img, f'{class_labels[cls]} {conf}', (x1, y1 - 10), scale=0.8, thickness=1, colorR=(255, 0, 0))"
   ]
  },
  {
   "cell_type": "code",
   "execution_count": null,
   "id": "ecde3a2d-9210-45b6-91f6-799e96d75692",
   "metadata": {},
   "outputs": [],
   "source": [
    "cv2.imshow(\"Image\", img)\n",
    "\n",
    "while True:\n",
    "    if cv2.waitKey(1) & 0xFF == ord('q'):\n",
    "        break\n",
    "cv2.destroyAllWindows()\n",
    "cv2.waitKey(1)"
   ]
  },
  {
   "cell_type": "code",
   "execution_count": null,
   "id": "8c5efbc5-2e59-4cfd-8364-6cc1f89788de",
   "metadata": {},
   "outputs": [],
   "source": []
  }
 ],
 "metadata": {
  "kernelspec": {
   "display_name": "Python 3 (ipykernel)",
   "language": "python",
   "name": "python3"
  },
  "language_info": {
   "codemirror_mode": {
    "name": "ipython",
    "version": 3
   },
   "file_extension": ".py",
   "mimetype": "text/x-python",
   "name": "python",
   "nbconvert_exporter": "python",
   "pygments_lexer": "ipython3",
   "version": "3.12.7"
  }
 },
 "nbformat": 4,
 "nbformat_minor": 5
}
